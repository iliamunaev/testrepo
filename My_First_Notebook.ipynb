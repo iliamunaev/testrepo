{
 "cells": [
  {
   "cell_type": "markdown",
   "id": "45a64673-8f04-4a53-89e5-0c4aa3df626b",
   "metadata": {},
   "source": [
    "# My Jupyter Notebook on IBM Watson Studio"
   ]
  },
  {
   "cell_type": "markdown",
   "id": "963def72-81fa-4ba7-b943-fe60ad3f1469",
   "metadata": {},
   "source": [
    " **Ilia Munaev**  \n",
    " Professional Seaman and Data Analyst with a passion for leveraging data to improve ship operations and safety."
   ]
  },
  {
   "cell_type": "markdown",
   "id": "3b3b85cc-10b0-4492-aeb6-1276ecc9603e",
   "metadata": {},
   "source": [
    "*As a lifelong learner, I have always been drawn to the world of shipping and logistics, and this led me to make a career change from law and bankruptcy to the maritime industry in 2019. I am currently working as a seafarer at ESL Shipping, Finland, and pursuing a Bachelor's degree in Maritime Management at Novia University of Applied Sciences.*\n",
    "\n",
    "*In 2022, I decided to take my passion for data science and analytics to the next level and enrolled in the Google Data Analytics Professional Certificate program. I am proud to have successfully completed the program and obtained my Google Data Analytics certificate, which has greatly expanded my knowledge and skills in the field.*\n",
    "\n",
    "*I am confident that my unique combination of skills and experience in shipping, supply chain logistics, and data science will open up new opportunities for me in the field. I am excited to continue learning, growing, and positively impacting the maritime industry.*"
   ]
  },
  {
   "cell_type": "markdown",
   "id": "e70075af-237a-4bd9-867c-3a41b3335859",
   "metadata": {},
   "source": [
    "### Create a variable *'hi'*.  \n",
    "### Execute *'hi'* by *'print()'* function."
   ]
  },
  {
   "cell_type": "code",
   "execution_count": 2,
   "id": "fba2ff84-2ac6-49bd-94a8-e5aff681396e",
   "metadata": {},
   "outputs": [
    {
     "name": "stdout",
     "output_type": "stream",
     "text": [
      "Hello, everyone!\n"
     ]
    }
   ],
   "source": [
    "hi = \"Hello, everyone!\"\n",
    "print(hi)"
   ]
  },
  {
   "cell_type": "markdown",
   "id": "819921d5-1e21-4754-976b-c370f251af81",
   "metadata": {},
   "source": [
    "[Find me on LinkedIn!](https://www.linkedin.com/in/iliamunaev/?locale=en_US)  \n",
    "\n",
    "![Homer](https://mystickermania.com/cdn/stickers/7/1816-512x512.png)  \n",
    "\n",
    "`See You!`"
   ]
  }
 ],
 "metadata": {
  "kernelspec": {
   "display_name": "Python",
   "language": "python",
   "name": "conda-env-python-py"
  },
  "language_info": {
   "codemirror_mode": {
    "name": "ipython",
    "version": 3
   },
   "file_extension": ".py",
   "mimetype": "text/x-python",
   "name": "python",
   "nbconvert_exporter": "python",
   "pygments_lexer": "ipython3",
   "version": "3.7.12"
  }
 },
 "nbformat": 4,
 "nbformat_minor": 5
}
